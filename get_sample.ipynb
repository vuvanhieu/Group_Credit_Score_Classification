{
 "cells": [
  {
   "cell_type": "code",
   "execution_count": 1,
   "id": "885d2250-be8c-456e-8a6c-676912d93546",
   "metadata": {},
   "outputs": [
    {
     "name": "stderr",
     "output_type": "stream",
     "text": [
      "C:\\Users\\vuvan\\AppData\\Local\\Temp\\ipykernel_20404\\2612255249.py:12: DtypeWarning: Columns (26) have mixed types. Specify dtype option on import or set low_memory=False.\n",
      "  train = pd.read_csv(\"train.csv/train.csv\")\n"
     ]
    }
   ],
   "source": [
    "import os\n",
    "import numpy as np\n",
    "import pandas as pd\n",
    "\n",
    "# Define directory variables\n",
    "directory_work = os.getcwd()\n",
    "# directory_feature = os.path.join(directory_work, 'ADandNAD_Feature')\n",
    "model_name = 'RandomForest Classification'\n",
    "result_out = os.path.join(directory_work, model_name)\n",
    "os.makedirs(result_out, exist_ok=True)\n",
    "\n",
    "train = pd.read_csv(\"train.csv/train.csv\")\n",
    "test = pd.read_csv(\"test.csv/test.csv\") \n",
    "\n",
    "\n",
    "# Taking 10% samples from both train and test DataFrames\n",
    "train_sample = train.sample(frac=0.1, random_state=42)\n",
    "test_sample = test.sample(frac=0.1, random_state=42)\n",
    "\n",
    "# Saving the samples to CSV files\n",
    "train_sample.to_csv(\"train_sample.csv\", index=False)\n",
    "test_sample.to_csv(\"test_sample.csv\", index=False)\n"
   ]
  },
  {
   "cell_type": "code",
   "execution_count": null,
   "id": "b95f6caa-0c78-42e6-b7de-432bc72fe99e",
   "metadata": {},
   "outputs": [],
   "source": []
  }
 ],
 "metadata": {
  "kernelspec": {
   "display_name": "Python 3 (ipykernel)",
   "language": "python",
   "name": "python3"
  },
  "language_info": {
   "codemirror_mode": {
    "name": "ipython",
    "version": 3
   },
   "file_extension": ".py",
   "mimetype": "text/x-python",
   "name": "python",
   "nbconvert_exporter": "python",
   "pygments_lexer": "ipython3",
   "version": "3.11.0"
  }
 },
 "nbformat": 4,
 "nbformat_minor": 5
}
